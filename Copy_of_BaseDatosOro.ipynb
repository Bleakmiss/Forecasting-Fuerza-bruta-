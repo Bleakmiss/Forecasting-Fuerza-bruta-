{
  "nbformat": 4,
  "nbformat_minor": 0,
  "metadata": {
    "colab": {
      "name": "Copy of BaseDatosOro.ipynb",
      "provenance": [],
      "collapsed_sections": [],
      "include_colab_link": true
    },
    "kernelspec": {
      "name": "python3",
      "display_name": "Python 3"
    },
    "language_info": {
      "name": "python"
    }
  },
  "cells": [
    {
      "cell_type": "markdown",
      "metadata": {
        "id": "view-in-github",
        "colab_type": "text"
      },
      "source": [
        "<a href=\"https://colab.research.google.com/github/Bleakmiss/Forecasting-Fuerza-bruta-/blob/main/Copy_of_BaseDatosOro.ipynb\" target=\"_parent\"><img src=\"https://colab.research.google.com/assets/colab-badge.svg\" alt=\"Open In Colab\"/></a>"
      ]
    },
    {
      "cell_type": "markdown",
      "metadata": {
        "id": "RgsTEhRlF39V"
      },
      "source": [
        "## ORO!!! Forecasting"
      ]
    },
    {
      "cell_type": "code",
      "metadata": {
        "id": "N7tyhnsLGA30"
      },
      "source": [
        "## Importando las librerías\n",
        "import pandas as pd\n",
        "import numpy as np"
      ],
      "execution_count": 3,
      "outputs": []
    },
    {
      "cell_type": "code",
      "metadata": {
        "id": "239jmvky-RGy"
      },
      "source": [
        "## Definicion de variables\n",
        "dataframeGold = pd.read_csv('gold_price_data.csv')\n",
        "etiqueta = np.array(dataframeGold['Value'])[2:]\n",
        "car_m1 = np.array(dataframeGold['Value'])[1:-1]\n",
        "car_m2 = np.array(dataframeGold['Value'])[:-2]\n",
        "Aux_C=[]\n",
        "Aux_B=[]\n",
        "Aux=[]\n",
        "C=np.array([])\n"
      ],
      "execution_count": 5,
      "outputs": []
    },
    {
      "cell_type": "code",
      "metadata": {
        "id": "H253iQPX_IRP"
      },
      "source": [
        "\n",
        "#Funcion para calculo de error de de las funcion obtenida \n",
        "\n",
        "def Calc_Error(h,array2):\n",
        "    #T0*x0 + T1*x1 = h(x)\n",
        "    error = (h- array2)**2\n",
        "    return(np.sum(error)/(2*error.shape[0]))"
      ],
      "execution_count": 6,
      "outputs": []
    },
    {
      "cell_type": "code",
      "metadata": {
        "id": "TXjcC1t6-QlR"
      },
      "source": [
        "#Funcion para calculo de funcion H(x) por medio de fuerza bruta\n",
        "def Fuerza_bruta(Caracteristica1,Caracteristica2,etiquetas):\n",
        "    for i in np.arange(-2,2,0.01):\n",
        "        for j in np.arange(-2, 2, 0.01):\n",
        "            C1= i*Caracteristica1+ Caracteristica2*j\n",
        "            Aux_C.append(i)\n",
        "            Aux_B.append(j)\n",
        "            Aux.append(Calc_Error(C1,etiquetas))\n",
        "    index=Aux.index(min(Aux))\n",
        "    return(round(Aux_C[index],3),round(Aux_B[index],3),round(min(Aux),3))\n",
        "\n"
      ],
      "execution_count": 7,
      "outputs": []
    },
    {
      "cell_type": "code",
      "metadata": {
        "colab": {
          "base_uri": "https://localhost:8080/"
        },
        "id": "3C1MwHt2DWv_",
        "outputId": "757f2b81-9ed4-476e-d7ba-f1b9c6fcedfa"
      },
      "source": [
        "# Mostrado en pantalla de los parametros y error de la funcion obtenida\n",
        "\n",
        "hola1=Fuerza_bruta(car_m1,car_m2,etiqueta)\n",
        "print(\"Parametro 1:\",hola1[0],\"Parametro 2:\",hola1[1],\"error:\",hola1[2])"
      ],
      "execution_count": 8,
      "outputs": [
        {
          "output_type": "stream",
          "text": [
            "Parametro 1: 0.99 Parametro 2: 0.01 error: 40.803\n"
          ],
          "name": "stdout"
        }
      ]
    }
  ]
}