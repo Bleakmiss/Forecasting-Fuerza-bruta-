{
  "nbformat": 4,
  "nbformat_minor": 0,
  "metadata": {
    "colab": {
      "name": "Copy of BaseDatosOro.ipynb",
      "provenance": [],
      "collapsed_sections": [],
      "include_colab_link": true
    },
    "kernelspec": {
      "name": "python3",
      "display_name": "Python 3"
    },
    "language_info": {
      "name": "python"
    }
  },
  "cells": [
    {
      "cell_type": "markdown",
      "metadata": {
        "id": "view-in-github",
        "colab_type": "text"
      },
      "source": [
        "<a href=\"https://colab.research.google.com/github/Bleakmiss/Forecasting-Fuerza-bruta-/blob/main/Copy_of_BaseDatosOro.ipynb\" target=\"_parent\"><img src=\"https://colab.research.google.com/assets/colab-badge.svg\" alt=\"Open In Colab\"/></a>"
      ]
    },
    {
      "cell_type": "markdown",
      "metadata": {
        "id": "RgsTEhRlF39V"
      },
      "source": [
        "## ORO!!! Forecasting"
      ]
    },
    {
      "cell_type": "code",
      "metadata": {
        "id": "N7tyhnsLGA30"
      },
      "source": [
        "## Importando las librerías\n",
        "import pandas as pd\n",
        "import numpy as np"
      ],
      "execution_count": 92,
      "outputs": []
    },
    {
      "cell_type": "code",
      "metadata": {
        "colab": {
          "base_uri": "https://localhost:8080/"
        },
        "id": "239jmvky-RGy",
        "outputId": "6d07777a-b67c-49e8-abc5-eaab8e2f10a9"
      },
      "source": [
        "## Definicion de variables\n",
        "Aux_C=[]\n",
        "Aux_B=[]\n",
        "Aux=[]\n",
        "C=np.array([])\n",
        "etiqueta = np.array(dataframeGold['Value'])[2:]\n",
        "car_m1 = np.array(dataframeGold['Value'])[1:-1]\n",
        "car_m2 = np.array(dataframeGold['Value'])[:-2]"
      ],
      "execution_count": 93,
      "outputs": [
        {
          "output_type": "stream",
          "text": [
            "10785\n",
            "10785\n",
            "10785\n"
          ],
          "name": "stdout"
        }
      ]
    },
    {
      "cell_type": "code",
      "metadata": {
        "id": "H253iQPX_IRP"
      },
      "source": [
        "\n",
        "#Funcion para calculo de error de de las funcion obtenida \n",
        "\n",
        "def Calc_Error(h,array2):\n",
        "    #T0*x0 + T1*x1 = h(x)\n",
        "    error = (h- array2)**2\n",
        "    return(np.sum(error)/(2*error.shape[0]))"
      ],
      "execution_count": 94,
      "outputs": []
    },
    {
      "cell_type": "code",
      "metadata": {
        "id": "TXjcC1t6-QlR"
      },
      "source": [
        "#Funcion para calculo de funcion H(x) por medio de fuerza bruta\n",
        "def Fuerza_bruta(Caracteristica1,Caracteristica2,etiquetas):\n",
        "    for i in np.arange(-2,2,0.01):\n",
        "        for j in np.arange(-2, 2, 0.01):\n",
        "            C1= i*Caracteristica1+ Caracteristica2*j\n",
        "            Aux_C.append(i)\n",
        "            Aux_B.append(j)\n",
        "            Aux.append(Calc_Error(C1,etiquetas))\n",
        "    index=Aux.index(min(Aux))\n",
        "    return(round(Aux_C[index],3),round(Aux_B[index],3),round(min(Aux),3))\n",
        "\n"
      ],
      "execution_count": 95,
      "outputs": []
    },
    {
      "cell_type": "code",
      "metadata": {
        "colab": {
          "base_uri": "https://localhost:8080/"
        },
        "id": "3C1MwHt2DWv_",
        "outputId": "b5e9aae7-62de-4fe5-e201-972d661d63ff"
      },
      "source": [
        "# Mostrado en pantalla de los parametros y error de la funcion obtenida\n",
        "\n",
        "hola1=Fuerza_bruta(car_m1,car_m2,etiqueta)\n",
        "print(\"Parametro 1:\",hola1[0],\"Parametro 2:\",hola1[1],\"error:\",hola1[2])"
      ],
      "execution_count": 97,
      "outputs": [
        {
          "output_type": "stream",
          "text": [
            "Parametro 1: 0.99 Parametro 2: 0.01 error: 0.01\n"
          ],
          "name": "stdout"
        }
      ]
    },
    {
      "cell_type": "code",
      "metadata": {
        "id": "C_kbWkKeJV0p"
      },
      "source": [
        "## Agrupando los datos en un único Dataframe y exportándolo a un archivo CSV\n",
        "dataset = pd.DataFrame({'Carac menos 2':car_m2, 'Carac menos 1':car_m1, 'Etiqueta':etiqueta})\n",
        "dataset.to_csv('goldPriceArranged.csv')"
      ],
      "execution_count": null,
      "outputs": []
    },
    {
      "cell_type": "code",
      "metadata": {
        "colab": {
          "base_uri": "https://localhost:8080/"
        },
        "id": "g0aUVperRvwL",
        "outputId": "8cb7ec63-d294-4855-e563-33efbe88d2b8"
      },
      "source": [
        "## Pasando los datos a una matriz de tipo numpy\n",
        "matrizDatos = dataset.to_numpy()\n",
        "print(matrizDatos.shape)"
      ],
      "execution_count": null,
      "outputs": [
        {
          "output_type": "stream",
          "text": [
            "(10785, 3)\n"
          ],
          "name": "stdout"
        }
      ]
    },
    {
      "cell_type": "code",
      "metadata": {
        "colab": {
          "base_uri": "https://localhost:8080/",
          "height": 365
        },
        "id": "Opw7aPwUGEoV",
        "outputId": "07315288-ce8d-4139-e4db-119513502946"
      },
      "source": [
        "\n",
        "dataframeGold = pd.read_csv('gold_price_data.csv')\n",
        "print(dataframeGold.dtypes)\n",
        "dataframeGold.head(10)\n",
        "print(dataframeGold.columns)\n",
        "dataframeGold.describe()"
      ],
      "execution_count": 88,
      "outputs": [
        {
          "output_type": "stream",
          "text": [
            "Date      object\n",
            "Value    float64\n",
            "dtype: object\n",
            "Index(['Date', 'Value'], dtype='object')\n"
          ],
          "name": "stdout"
        },
        {
          "output_type": "execute_result",
          "data": {
            "text/html": [
              "<div>\n",
              "<style scoped>\n",
              "    .dataframe tbody tr th:only-of-type {\n",
              "        vertical-align: middle;\n",
              "    }\n",
              "\n",
              "    .dataframe tbody tr th {\n",
              "        vertical-align: top;\n",
              "    }\n",
              "\n",
              "    .dataframe thead th {\n",
              "        text-align: right;\n",
              "    }\n",
              "</style>\n",
              "<table border=\"1\" class=\"dataframe\">\n",
              "  <thead>\n",
              "    <tr style=\"text-align: right;\">\n",
              "      <th></th>\n",
              "      <th>Value</th>\n",
              "    </tr>\n",
              "  </thead>\n",
              "  <tbody>\n",
              "    <tr>\n",
              "      <th>count</th>\n",
              "      <td>10787.000000</td>\n",
              "    </tr>\n",
              "    <tr>\n",
              "      <th>mean</th>\n",
              "      <td>653.596634</td>\n",
              "    </tr>\n",
              "    <tr>\n",
              "      <th>std</th>\n",
              "      <td>434.030848</td>\n",
              "    </tr>\n",
              "    <tr>\n",
              "      <th>min</th>\n",
              "      <td>35.100000</td>\n",
              "    </tr>\n",
              "    <tr>\n",
              "      <th>25%</th>\n",
              "      <td>349.200000</td>\n",
              "    </tr>\n",
              "    <tr>\n",
              "      <th>50%</th>\n",
              "      <td>409.350000</td>\n",
              "    </tr>\n",
              "    <tr>\n",
              "      <th>75%</th>\n",
              "      <td>1061.625000</td>\n",
              "    </tr>\n",
              "    <tr>\n",
              "      <th>max</th>\n",
              "      <td>1895.000000</td>\n",
              "    </tr>\n",
              "  </tbody>\n",
              "</table>\n",
              "</div>"
            ],
            "text/plain": [
              "              Value\n",
              "count  10787.000000\n",
              "mean     653.596634\n",
              "std      434.030848\n",
              "min       35.100000\n",
              "25%      349.200000\n",
              "50%      409.350000\n",
              "75%     1061.625000\n",
              "max     1895.000000"
            ]
          },
          "metadata": {
            "tags": []
          },
          "execution_count": 88
        }
      ]
    }
  ]
}